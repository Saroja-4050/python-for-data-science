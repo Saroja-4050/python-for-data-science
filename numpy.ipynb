{
 "cells": [
  {
   "cell_type": "code",
   "execution_count": 2,
   "metadata": {},
   "outputs": [
    {
     "name": "stdout",
     "output_type": "stream",
     "text": [
      "original array:\n",
      "[[10 40]\n",
      " [30 20]]\n",
      "sort the array along the first axis:\n",
      "[[10 20]\n",
      " [30 40]]\n",
      "sort the array along the last axis:\n",
      "[[10 40]\n",
      " [20 30]]\n",
      "sort the flattered array:\n",
      "[10 20 30 40]\n"
     ]
    }
   ],
   "source": [
    "import numpy as np\n",
    "a = np.array([[10,40],[30,20]])\n",
    "print(\"original array:\")\n",
    "print(a)\n",
    "print(\"sort the array along the first axis:\")\n",
    "print(np.sort(a,axis=0))\n",
    "print(\"sort the array along the last axis:\")\n",
    "print(np.sort(a))\n",
    "print(\"sort the flattered array:\")\n",
    "print(np.sort(a,axis=None))"
   ]
  },
  {
   "cell_type": "code",
   "execution_count": 5,
   "metadata": {},
   "outputs": [
    {
     "name": "stdout",
     "output_type": "stream",
     "text": [
      "original array:\n",
      "[(b'Usha', 5, 58.5) (b'saru', 6, 52.5)]\n",
      "sort by height\n",
      "[(b'saru', 6, 52.5) (b'Usha', 5, 58.5)]\n"
     ]
    }
   ],
   "source": [
    "import numpy as np\n",
    "data_type = [('name','S15'),('class',int),('height',float)]\n",
    "student_details= [('Usha',5,58.5),('saru',6,52.5)]\n",
    "students=np.array(student_details,dtype=data_type)\n",
    "print(\"original array:\")\n",
    "print(students)\n",
    "print(\"sort by height\")\n",
    "print(np.sort(students,order='height'))\n",
    "              "
   ]
  },
  {
   "cell_type": "code",
   "execution_count": 7,
   "metadata": {},
   "outputs": [
    {
     "name": "stdout",
     "output_type": "stream",
     "text": [
      "average of array elements:\n",
      "0.4840416949578995\n",
      "standard deviation of the array elements:\n",
      "0.2866141308001372\n",
      "variance of the array elements:\n",
      "0.08214765997431817\n"
     ]
    }
   ],
   "source": [
    "import numpy as np\n",
    "x = np.random.random(1000)\n",
    "print(\"average of array elements:\")\n",
    "mean= x.mean()\n",
    "print(mean)\n",
    "print(\"standard deviation of the array elements:\")\n",
    "std = x.std()\n",
    "print(std)\n",
    "print(\"variance of the array elements:\")\n",
    "var = x.var()\n",
    "print(var)"
   ]
  },
  {
   "cell_type": "code",
   "execution_count": 9,
   "metadata": {},
   "outputs": [
    {
     "name": "stdout",
     "output_type": "stream",
     "text": [
      "original array:\n",
      "[0, 1, 6, 1, 4, 1, 2, 2, 7]\n",
      "number of occurences of each value in array:\n",
      "[1 3 2 0 1 0 1 1]\n"
     ]
    }
   ],
   "source": [
    "import numpy as np\n",
    "array1 = [0,1,6,1,4,1,2,2,7]\n",
    "print(\"original array:\")\n",
    "print(array1)\n",
    "print(\"number of occurences of each value in array:\")\n",
    "print(np.bincount(array1))"
   ]
  },
  {
   "cell_type": "code",
   "execution_count": 11,
   "metadata": {},
   "outputs": [
    {
     "name": "stdout",
     "output_type": "stream",
     "text": [
      "original matrix:\n",
      "[[0 1 2]\n",
      " [3 4 5]\n",
      " [6 7 8]]\n",
      "Trace of matrix:\n",
      "12\n"
     ]
    }
   ],
   "source": [
    "import numpy as np\n",
    "n = np.arange(9).reshape(3,3)\n",
    "print(\"original matrix:\")\n",
    "print(n)\n",
    "result = np.trace(n)\n",
    "print(\"Trace of matrix:\")\n",
    "print(result)"
   ]
  },
  {
   "cell_type": "code",
   "execution_count": null,
   "metadata": {},
   "outputs": [],
   "source": []
  }
 ],
 "metadata": {
  "kernelspec": {
   "display_name": "Python 3",
   "language": "python",
   "name": "python3"
  },
  "language_info": {
   "codemirror_mode": {
    "name": "ipython",
    "version": 3
   },
   "file_extension": ".py",
   "mimetype": "text/x-python",
   "name": "python",
   "nbconvert_exporter": "python",
   "pygments_lexer": "ipython3",
   "version": "3.7.4"
  }
 },
 "nbformat": 4,
 "nbformat_minor": 2
}
