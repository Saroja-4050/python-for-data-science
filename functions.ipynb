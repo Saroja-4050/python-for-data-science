{
  "nbformat": 4,
  "nbformat_minor": 0,
  "metadata": {
    "colab": {
      "name": "functions.ipynb",
      "provenance": [],
      "collapsed_sections": [],
      "authorship_tag": "ABX9TyPhW99i5H89RKwqbevRMja4",
      "include_colab_link": true
    },
    "kernelspec": {
      "name": "python3",
      "display_name": "Python 3"
    },
    "language_info": {
      "name": "python"
    }
  },
  "cells": [
    {
      "cell_type": "markdown",
      "metadata": {
        "id": "view-in-github",
        "colab_type": "text"
      },
      "source": [
        "<a href=\"https://colab.research.google.com/github/Saroja-4050/python-for-data-science/blob/main/functions.ipynb\" target=\"_parent\"><img src=\"https://colab.research.google.com/assets/colab-badge.svg\" alt=\"Open In Colab\"/></a>"
      ]
    },
    {
      "cell_type": "markdown",
      "source": [
        "**Basics of** **Functions**"
      ],
      "metadata": {
        "id": "iJHtZIGWumdq"
      }
    },
    {
      "cell_type": "code",
      "execution_count": null,
      "metadata": {
        "colab": {
          "base_uri": "https://localhost:8080/",
          "height": 53
        },
        "id": "Kv8Kbhhxs4bT",
        "outputId": "c50b6b9a-3606-49b2-ac56-d0cb901a2568"
      },
      "outputs": [
        {
          "name": "stdout",
          "output_type": "stream",
          "text": [
            "enter your namesaru\n"
          ]
        },
        {
          "output_type": "execute_result",
          "data": {
            "text/plain": [
              "'What is on your mind,saru'"
            ],
            "application/vnd.google.colaboratory.intrinsic+json": {
              "type": "string"
            }
          },
          "metadata": {},
          "execution_count": 9
        }
      ],
      "source": [
        "def greeting(name):\n",
        "  name= str(input(\"enter your name\"))\n",
        "  greeting_str = f'What is on your mind,{name}'\n",
        "  return greeting_str\n",
        "greeting('name')"
      ]
    },
    {
      "cell_type": "code",
      "source": [
        "def average(num1,num2,num3):\n",
        "  print(\"using this program to calculate avg of three numbers\")\n",
        "  num1 = int(input(\"enter number1:\"))\n",
        "  num2 = int(input(\"enter number2:\"))\n",
        "  num3 = int(input(\"enter number3:\"))\n",
        "  sum = num1+num2+num3\n",
        "  avg = sum/3\n",
        "  print(\"Average of the three numbers is:\")\n",
        "  return avg\n",
        "average(int,int,int)"
      ],
      "metadata": {
        "colab": {
          "base_uri": "https://localhost:8080/"
        },
        "id": "xFvI-lv7vFCL",
        "outputId": "c1021c2e-6bf8-4d13-80bf-5317e4c077ea"
      },
      "execution_count": null,
      "outputs": [
        {
          "output_type": "stream",
          "name": "stdout",
          "text": [
            "using this program to calculate avg of three numbers\n",
            "enter number1:44\n",
            "enter number2:77\n",
            "enter number3:88\n",
            "Average of the three numbers is:\n"
          ]
        },
        {
          "output_type": "execute_result",
          "data": {
            "text/plain": [
              "69.66666666666667"
            ]
          },
          "metadata": {},
          "execution_count": 20
        }
      ]
    },
    {
      "cell_type": "code",
      "source": [
        "def avg(n): \n",
        "  lst = []\n",
        "  num = int(input('how many numbers:'))\n",
        "  for i in range(num):\n",
        "    numbers = int(input('Enter number:'))\n",
        "    lst.append(numbers)\n",
        "  total = 0\n",
        "  for i in range(num):\n",
        "    total = total+lst[i]\n",
        "  print(\"sum of list elements=\",total)\n",
        "  avg = total/num\n",
        "  print(\"average of the numbers in the list:\",avg)\n",
        "avg(int)"
      ],
      "metadata": {
        "colab": {
          "base_uri": "https://localhost:8080/"
        },
        "id": "TCdU990f2Ptw",
        "outputId": "61504109-a5f3-41ea-b69d-1a4249914db6"
      },
      "execution_count": null,
      "outputs": [
        {
          "output_type": "stream",
          "name": "stdout",
          "text": [
            "how many numbers:4\n",
            "Enter number:6\n",
            "Enter number:7\n",
            "Enter number:9\n",
            "Enter number:3\n",
            "sum of list elements= 25\n",
            "average of the numbers in the list: 6.25\n"
          ]
        }
      ]
    }
  ]
}