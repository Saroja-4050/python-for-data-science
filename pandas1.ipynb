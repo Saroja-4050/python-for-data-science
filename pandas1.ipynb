{
 "cells": [
  {
   "cell_type": "code",
   "execution_count": 2,
   "metadata": {},
   "outputs": [
    {
     "data": {
      "text/html": [
       "<div>\n",
       "<style scoped>\n",
       "    .dataframe tbody tr th:only-of-type {\n",
       "        vertical-align: middle;\n",
       "    }\n",
       "\n",
       "    .dataframe tbody tr th {\n",
       "        vertical-align: top;\n",
       "    }\n",
       "\n",
       "    .dataframe thead th {\n",
       "        text-align: right;\n",
       "    }\n",
       "</style>\n",
       "<table border=\"1\" class=\"dataframe\">\n",
       "  <thead>\n",
       "    <tr style=\"text-align: right;\">\n",
       "      <th></th>\n",
       "      <th>Name of the student</th>\n",
       "      <th>University</th>\n",
       "      <th>Branch</th>\n",
       "    </tr>\n",
       "  </thead>\n",
       "  <tbody>\n",
       "    <tr>\n",
       "      <td>0</td>\n",
       "      <td>Ajay</td>\n",
       "      <td>JNTUA</td>\n",
       "      <td>CSE</td>\n",
       "    </tr>\n",
       "    <tr>\n",
       "      <td>1</td>\n",
       "      <td>Ajax</td>\n",
       "      <td>JNTUA</td>\n",
       "      <td>ECE</td>\n",
       "    </tr>\n",
       "    <tr>\n",
       "      <td>8</td>\n",
       "      <td>Muqeed</td>\n",
       "      <td>JNTUA</td>\n",
       "      <td>EEE</td>\n",
       "    </tr>\n",
       "  </tbody>\n",
       "</table>\n",
       "</div>"
      ],
      "text/plain": [
       "  Name of the student University Branch\n",
       "0                Ajay      JNTUA    CSE\n",
       "1                Ajax      JNTUA    ECE\n",
       "8              Muqeed      JNTUA    EEE"
      ]
     },
     "execution_count": 2,
     "metadata": {},
     "output_type": "execute_result"
    }
   ],
   "source": [
    "import pandas as pd\n",
    "student={\n",
    "    'Name of the student':['Ajay','Ajax','Raju','Ravi','Abdullah','Sameer','Shahriq','Waseem','Muqeed','Feroz'],\n",
    "    'University':['JNTUA','JNTUA','JNTUK','SVU','JNTUK','JNTU','JNTUH','JNTUH','JNTUA','LPU'],\n",
    "    'Branch':['CSE','ECE','CIVIL','MECH','EEE','AIML','CST','CSB','EEE','ECE']\n",
    "}\n",
    "df=pd.DataFrame(student)\n",
    "df\n",
    "var=df['University']=='JNTUA'\n",
    "x=df.where(var,inplace=False)\n",
    "x.dropna(inplace=True)\n",
    "x"
   ]
  },
  {
   "cell_type": "code",
   "execution_count": null,
   "metadata": {},
   "outputs": [],
   "source": []
  }
 ],
 "metadata": {
  "kernelspec": {
   "display_name": "Python 3",
   "language": "python",
   "name": "python3"
  },
  "language_info": {
   "codemirror_mode": {
    "name": "ipython",
    "version": 3
   },
   "file_extension": ".py",
   "mimetype": "text/x-python",
   "name": "python",
   "nbconvert_exporter": "python",
   "pygments_lexer": "ipython3",
   "version": "3.7.4"
  }
 },
 "nbformat": 4,
 "nbformat_minor": 2
}
